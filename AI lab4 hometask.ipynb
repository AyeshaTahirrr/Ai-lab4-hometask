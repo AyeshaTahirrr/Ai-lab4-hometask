{
 "cells": [
  {
   "cell_type": "code",
   "execution_count": null,
   "id": "0f6d6c4f-e8f2-4844-bab8-f1ba4f4f0015",
   "metadata": {},
   "outputs": [],
   "source": [
    "import pandas as pd\n",
    "data = {\n",
    "    \"Season\": [\"Summer\", \"Winter\", \"Fall\", \"Spring\", \"Winter\", \"Summer\", \"Fall\", \"Spring\", \"Summer\", \"Winter\"],\n",
    "    \"Booking Source\": [\"Online\", \"Phone\", \"Walk-in\", \"Online\", \"Walk-in\", \"Phone\", \"Online\", \"Walk-in\", \"Phone\", \"Online\"],\n",
    "    \"Booked\": [\"Yes\", \"No\", \"Yes\", \"Yes\", \"No\", \"No\", \"Yes\", \"Yes\", \"Yes\", \"No\"]\n",
    "}\n",
    "df = pd.DataFrame(data)\n",
    "total_count = len(df)\n",
    "booked_yes_count = len(df[df[\"Booked\"] == \"Yes\"])\n",
    "booked_no_count = len(df[df[\"Booked\"] == \"No\"])\n",
    "\n",
    "p_booked_yes = booked_yes_count / total_count\n",
    "p_booked_no = booked_no_count / total_count\n",
    "\n",
    "online_yes_count = len(df[(df[\"Booking Source\"] == \"Online\") & (df[\"Booked\"] == \"Yes\")])\n",
    "online_no_count = len(df[(df[\"Booking Source\"] == \"Online\") & (df[\"Booked\"] == \"No\")])\n",
    "p_online_given_yes = online_yes_count / booked_yes_count\n",
    "p_online_given_no = online_no_count / booked_no_count\n",
    "\n",
    "summer_yes_count = len(df[(df[\"Season\"] == \"Summer\") & (df[\"Booked\"] == \"Yes\")])\n",
    "summer_no_count = len(df[(df[\"Season\"] == \"Summer\") & (df[\"Booked\"] == \"No\")])\n",
    "p_summer_given_yes = summer_yes_count / booked_yes_count\n",
    "p_summer_given_no = summer_no_count / booked_no_count\n",
    "\n",
    "p_yes_given_conditions = p_booked_yes * p_online_given_yes * p_summer_given_yes\n",
    "p_no_given_conditions = p_booked_no * p_online_given_no * p_summer_given_no\n",
    "\n",
    "total_posterior = p_yes_given_conditions + p_no_given_conditions\n",
    "p_yes_final = p_yes_given_conditions / total_posterior\n",
    "p_no_final = p_no_given_conditions / total_posterior\n",
    "\n",
    "print(\"Probability of booking (Yes):\", p_yes_final)\n",
    "print(\"Probability of not booking (No):\", p_no_final)\n",
    "\n",
    "if p_yes_final > p_no_final:\n",
    "    print(\"Prediction: Booking will be made.\")\n",
    "else:\n",
    "    print(\"Prediction: Booking will not be made.\")\n"
   ]
  }
 ],
 "metadata": {
  "kernelspec": {
   "display_name": "Python 3 (ipykernel)",
   "language": "python",
   "name": "python3"
  },
  "language_info": {
   "codemirror_mode": {
    "name": "ipython",
    "version": 3
   },
   "file_extension": ".py",
   "mimetype": "text/x-python",
   "name": "python",
   "nbconvert_exporter": "python",
   "pygments_lexer": "ipython3",
   "version": "3.12.7"
  }
 },
 "nbformat": 4,
 "nbformat_minor": 5
}
